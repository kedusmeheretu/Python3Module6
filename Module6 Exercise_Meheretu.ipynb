{
 "cells": [
  {
   "cell_type": "markdown",
   "metadata": {},
   "source": [
    "### Exercise 1\n",
    "Convert following decimal number to a binary number by hand:\n",
    "\n",
    "    61\n",
    "    15\n",
    "    71\n",
    "    "
   ]
  },
  {
   "cell_type": "code",
   "execution_count": 7,
   "metadata": {},
   "outputs": [
    {
     "name": "stdout",
     "output_type": "stream",
     "text": [
      "1\n",
      "0\n",
      "1\n",
      "1\n",
      "1\n",
      "1\n"
     ]
    }
   ],
   "source": [
    "#print(61//2)\n",
    "print(61%2)\n",
    "\n",
    "#print(30//2)\n",
    "print(30%2)\n",
    "\n",
    "#print(15//2)\n",
    "print(15%2)\n",
    "\n",
    "#print(7//2)\n",
    "print(7%2)\n",
    "\n",
    "#print(3//2)\n",
    "print(3%2)\n",
    "\n",
    "#print(1//2)\n",
    "print(1%2)"
   ]
  },
  {
   "cell_type": "code",
   "execution_count": 12,
   "metadata": {},
   "outputs": [
    {
     "name": "stdout",
     "output_type": "stream",
     "text": [
      "1\n",
      "1\n",
      "1\n",
      "1\n"
     ]
    }
   ],
   "source": [
    "#print(15//2)\n",
    "print(15%2)\n",
    "\n",
    "#print(7//2)\n",
    "print(7%2)\n",
    "\n",
    "#print(3//2)\n",
    "print(3%2)\n",
    "\n",
    "#print(1//2)\n",
    "print(1%2)"
   ]
  },
  {
   "cell_type": "code",
   "execution_count": 20,
   "metadata": {},
   "outputs": [
    {
     "name": "stdout",
     "output_type": "stream",
     "text": [
      "1\n",
      "1\n",
      "1\n",
      "0\n",
      "0\n",
      "0\n",
      "1\n"
     ]
    }
   ],
   "source": [
    "#print(71//2)\n",
    "print(71%2)\n",
    "\n",
    "#print(35//2)\n",
    "print(35%2)\n",
    "\n",
    "#print(17//2)\n",
    "print(17%2)\n",
    "\n",
    "#print(8//2)\n",
    "print(8%2)\n",
    "\n",
    "#print(4//2)\n",
    "print(4%2)\n",
    "\n",
    "#print(2//2)\n",
    "print(2%2)\n",
    "\n",
    "#print(1//2)\n",
    "print(1%2)"
   ]
  },
  {
   "cell_type": "markdown",
   "metadata": {},
   "source": [
    "### Exercise 2\n",
    "When a = 61 and b = 15, what is the result of following bitwise opertion? Use inline comments to show your result in a binary number. Find your answer by hand.\n",
    "\n",
    "    a & b\n",
    "    a | b\n",
    "    a ^ b\n",
    "    a >> 2\n",
    "    "
   ]
  },
  {
   "cell_type": "code",
   "execution_count": 23,
   "metadata": {},
   "outputs": [
    {
     "name": "stdout",
     "output_type": "stream",
     "text": [
      "0b111101 0b1111\n"
     ]
    }
   ],
   "source": [
    "# convert a in to a binary number\n",
    "binary1 = bin(61)\n",
    "\n",
    "# convert b in to a binary number\n",
    "binary2 = bin(15)\n",
    "print(binary1, binary2)"
   ]
  },
  {
   "cell_type": "code",
   "execution_count": 24,
   "metadata": {},
   "outputs": [
    {
     "data": {
      "text/plain": [
       "13"
      ]
     },
     "execution_count": 24,
     "metadata": {},
     "output_type": "execute_result"
    }
   ],
   "source": [
    "# a & b \n",
    "a = 61            # bin(a) = 111101\n",
    "b = 15            # bin(b) = 001111\n",
    "\n",
    "a & b            # a&b =     001101"
   ]
  },
  {
   "cell_type": "code",
   "execution_count": 25,
   "metadata": {},
   "outputs": [
    {
     "data": {
      "text/plain": [
       "63"
      ]
     },
     "execution_count": 25,
     "metadata": {},
     "output_type": "execute_result"
    }
   ],
   "source": [
    "# a | b\n",
    "a = 61    #111101\n",
    "b = 15    #001111\n",
    "\n",
    "a | b     #111111"
   ]
  },
  {
   "cell_type": "code",
   "execution_count": 26,
   "metadata": {},
   "outputs": [
    {
     "data": {
      "text/plain": [
       "50"
      ]
     },
     "execution_count": 26,
     "metadata": {},
     "output_type": "execute_result"
    }
   ],
   "source": [
    "# a ^ b\n",
    "a = 61    #111101\n",
    "b = 15    #001111\n",
    "\n",
    "a ^ b     #110010"
   ]
  },
  {
   "cell_type": "code",
   "execution_count": 28,
   "metadata": {},
   "outputs": [
    {
     "name": "stdout",
     "output_type": "stream",
     "text": [
      "61\n"
     ]
    }
   ],
   "source": [
    "# a >> 2\n",
    "a = 61  #111101\n",
    "b = 15\n",
    "\n",
    "a >> 2  #00111101\n",
    "\n",
    "print(int('00111101', 2))"
   ]
  },
  {
   "cell_type": "markdown",
   "metadata": {},
   "source": [
    "### Exercise 3\n",
    "Ask a user for a code and store that answer. \n",
    "If the answer is <b>grey</b> then print \"You found secret code.\"\n",
    "Otherwise print that the entered code is not the secret code."
   ]
  },
  {
   "cell_type": "code",
   "execution_count": 31,
   "metadata": {},
   "outputs": [
    {
     "name": "stdout",
     "output_type": "stream",
     "text": [
      "enter a secret codeblue\n",
      "the code entered is not secret code\n"
     ]
    }
   ],
   "source": [
    "prompt = \"enter a secret code\"\n",
    "sec_code = input(prompt)\n",
    "\n",
    "if sec_code == \"grey\" :\n",
    "    print(\"You found secret code \")\n",
    "    \n",
    "else :\n",
    "    print(\"the code entered is not secret code\")"
   ]
  },
  {
   "cell_type": "markdown",
   "metadata": {},
   "source": [
    "### Exercise 4\n",
    "Ask for an exam score and store that number. If the number is greater than 100, then print out 'You cannot have an exam score higher than 100'. If the number doesn't exceeed 100 but is greater than or equal to 75, then print out 'You did great on your exam!'. Otherwise if they scored lower than 75, then print out 'You need to study harder'."
   ]
  },
  {
   "cell_type": "code",
   "execution_count": 46,
   "metadata": {},
   "outputs": [
    {
     "name": "stdout",
     "output_type": "stream",
     "text": [
      "Enter your exam score: 75\n",
      "You did great on your exam!\n"
     ]
    }
   ],
   "source": [
    "exam_score = int(input(\"Enter your exam score: \"))\n",
    "    \n",
    "if exam_score >= 75 | exam_score <= 100 :\n",
    "        print(\"You did great on your exam!\")\n",
    "        \n",
    "elif exam_score < 75: \n",
    "    print(\"You need to study harder\")"
   ]
  },
  {
   "cell_type": "markdown",
   "metadata": {},
   "source": [
    "### Exercise 5\n",
    "Write a function to convert a test score to a grade where  \n",
    " - 90 - 100: A\n",
    " - 80 - 89:  B\n",
    " - 70 - 79:  C\n",
    " - 60 - 69:  D\n",
    " - < 60   :  F\n",
    " \n",
    "If a score is not between 0 and 100 then print out an error message. In the program, ask the user for a score and then call your function. "
   ]
  },
  {
   "cell_type": "code",
   "execution_count": 66,
   "metadata": {},
   "outputs": [],
   "source": [
    "# define your function\n",
    "def get_testScore(score) :\n",
    "    if score >= 90 | score <= 100 :\n",
    "        grade = 'A'\n",
    "        print(f\"Your test grade is an {grade}\")\n",
    "    elif score >= 80 | score <= 89 :\n",
    "        grade = 'B'\n",
    "        print(f\"Your test grade is a {grade}\")\n",
    "    elif score >= 70 | score <= 79 :\n",
    "        grade = 'C'\n",
    "        print(f\"Your test grade is a {grade}\")\n",
    "    elif score >= 60 | score <= 69 :\n",
    "        grade = 'D'\n",
    "        print(f\"Your test grade is a {grade}\")\n",
    "    elif score < 60 :\n",
    "        grade = 'F'\n",
    "        print(f\"Your test grade is an {grade}\")"
   ]
  },
  {
   "cell_type": "code",
   "execution_count": 67,
   "metadata": {},
   "outputs": [
    {
     "name": "stdout",
     "output_type": "stream",
     "text": [
      "what is your test score? 80\n",
      "Your test grade is a B\n"
     ]
    }
   ],
   "source": [
    "# ask the user for a score and then call your function\n",
    "score = int(input(\"what is your test score? \"))\n",
    "\n",
    "get_testScore(score)\n"
   ]
  },
  {
   "cell_type": "code",
   "execution_count": null,
   "metadata": {},
   "outputs": [],
   "source": []
  },
  {
   "cell_type": "code",
   "execution_count": null,
   "metadata": {},
   "outputs": [],
   "source": []
  }
 ],
 "metadata": {
  "kernelspec": {
   "display_name": "Python 3",
   "language": "python",
   "name": "python3"
  },
  "language_info": {
   "codemirror_mode": {
    "name": "ipython",
    "version": 3
   },
   "file_extension": ".py",
   "mimetype": "text/x-python",
   "name": "python",
   "nbconvert_exporter": "python",
   "pygments_lexer": "ipython3",
   "version": "3.8.5"
  }
 },
 "nbformat": 4,
 "nbformat_minor": 4
}
